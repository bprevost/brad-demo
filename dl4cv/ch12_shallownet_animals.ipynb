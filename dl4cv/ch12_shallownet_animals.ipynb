{
 "cells": [
  {
   "cell_type": "code",
   "execution_count": null,
   "metadata": {},
   "outputs": [],
   "source": [
    "import cv2\n",
    "import glob\n",
    "import matplotlib.pyplot as plt\n",
    "import numpy as np\n",
    "import os\n",
    "\n",
    "from sklearn.metrics import classification_report\n",
    "from sklearn.model_selection import train_test_split\n",
    "from sklearn.preprocessing import LabelBinarizer\n",
    "\n",
    "from tensorflow.keras.layers import Activation\n",
    "from tensorflow.keras.layers import Conv2D\n",
    "from tensorflow.keras.layers import Dense\n",
    "from tensorflow.keras.layers import Flatten\n",
    "from tensorflow.keras.models import Sequential\n",
    "from tensorflow.keras.optimizers import SGD"
   ]
  },
  {
   "cell_type": "code",
   "execution_count": null,
   "metadata": {},
   "outputs": [],
   "source": [
    "def load_dataset(image_paths):\n",
    "    data = []\n",
    "    labels = []\n",
    "    for i, path in enumerate(image_paths):\n",
    "        if i > 0 and (i + 1) % 500 == 0:\n",
    "            print(f\"Loading {i+1} of {len(image_paths)} images...\")\n",
    "        image = cv2.imread(path)  # Load the image\n",
    "        # Resize the image to a fixed size (ignore the aspect ratio)\n",
    "        image = cv2.resize(image, (32, 32), interpolation=cv2.INTER_AREA)\n",
    "        # Extract the class label\n",
    "        label = path.split(os.path.sep)[-2]\n",
    "        data.append(image)\n",
    "        labels.append(label)\n",
    "    data = np.array(data)\n",
    "    labels = np.array(labels)\n",
    "    return data, labels"
   ]
  },
  {
   "cell_type": "code",
   "execution_count": null,
   "metadata": {},
   "outputs": [],
   "source": [
    "# Grab the list of images\n",
    "dataset = os.path.expanduser(\"~/work/DL4CV/datasets/animals\")\n",
    "image_paths = glob.glob(dataset + \"/**/*.jpg\", recursive=True)\n",
    "\n",
    "# Load the dataset\n",
    "data, labels = load_dataset(image_paths)\n",
    "print(data.shape)\n",
    "\n",
    "# Scale the raw pixel intensities to the range [0, 1]\n",
    "data = data.astype(\"float\") / 255.0\n",
    "\n",
    "# Display memory consumption\n",
    "print(f\"data matrix: {data.nbytes / (1024 * 1024.0):.1f} MB\")\n",
    "\n",
    "# Partition the data into training (75%) and testing (25%) splits\n",
    "(trainX, testX, trainY, testY) = train_test_split(\n",
    "    data, labels, test_size=0.25, random_state=42\n",
    ")\n",
    "\n",
    "# Convert the labels from integers to vectors\n",
    "lb = LabelBinarizer()\n",
    "trainY = lb.fit_transform(trainY)\n",
    "testY = lb.transform(testY)"
   ]
  },
  {
   "cell_type": "code",
   "execution_count": null,
   "metadata": {},
   "outputs": [],
   "source": [
    "# Define the architecture using Keras\n",
    "height = 32\n",
    "width = 32\n",
    "depth = 3\n",
    "classes = 3\n",
    "\n",
    "model = Sequential()\n",
    "model.add(Conv2D(32, (3, 3), padding=\"same\", input_shape=(height, width, depth)))\n",
    "model.add(Activation(\"relu\"))\n",
    "model.add(Flatten())\n",
    "model.add(Dense(classes))\n",
    "model.add(Activation(\"softmax\"))\n",
    "\n",
    "# Initialize the optimizer and model\n",
    "opt = SGD(learning_rate=0.005)\n",
    "model.compile(loss=\"categorical_crossentropy\", optimizer=opt, metrics=[\"accuracy\"])\n",
    "\n",
    "# Train the model using SGD\n",
    "EPOCHS = 100\n",
    "H = model.fit(\n",
    "    trainX,\n",
    "    trainY,\n",
    "    validation_data=(testX, testY),\n",
    "    batch_size=32,\n",
    "    epochs=EPOCHS,\n",
    "    verbose=1,\n",
    ")"
   ]
  },
  {
   "cell_type": "code",
   "execution_count": null,
   "metadata": {},
   "outputs": [],
   "source": [
    "# Evaluate the network\n",
    "predictions = model.predict(testX, batch_size=32)\n",
    "report = classification_report(\n",
    "    testY.argmax(axis=1),\n",
    "    predictions.argmax(axis=1),\n",
    "    target_names=[str(x) for x in lb.classes_],\n",
    ")\n",
    "print(report)\n",
    "\n",
    "# plot the training loss and accuracy\n",
    "plt.style.use(\"ggplot\")\n",
    "plt.figure()\n",
    "plt.plot(np.arange(0, EPOCHS), H.history[\"loss\"], label=\"train_loss\")\n",
    "plt.plot(np.arange(0, EPOCHS), H.history[\"val_loss\"], label=\"val_loss\")\n",
    "plt.plot(np.arange(0, EPOCHS), H.history[\"accuracy\"], label=\"train_acc\")\n",
    "plt.plot(np.arange(0, EPOCHS), H.history[\"val_accuracy\"], label=\"val_acc\")\n",
    "plt.title(\"Training Loss and Accuracy\")\n",
    "plt.xlabel(\"Epoch #\")\n",
    "plt.ylabel(\"Loss/Accuracy\")\n",
    "plt.legend()\n",
    "plt.show()"
   ]
  }
 ],
 "metadata": {
  "kernelspec": {
   "display_name": "Python 3",
   "language": "python",
   "name": "python3"
  },
  "language_info": {
   "codemirror_mode": {
    "name": "ipython",
    "version": 3
   },
   "file_extension": ".py",
   "mimetype": "text/x-python",
   "name": "python",
   "nbconvert_exporter": "python",
   "pygments_lexer": "ipython3"
  }
 },
 "nbformat": 4,
 "nbformat_minor": 2
}
