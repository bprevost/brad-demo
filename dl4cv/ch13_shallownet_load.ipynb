{
 "cells": [
  {
   "cell_type": "code",
   "execution_count": null,
   "metadata": {},
   "outputs": [],
   "source": [
    "import os\n",
    "import glob\n",
    "import numpy as np\n",
    "import cv2\n",
    "\n",
    "from tensorflow.keras.models import load_model\n",
    "\n",
    "import load_dataset"
   ]
  },
  {
   "cell_type": "code",
   "execution_count": null,
   "metadata": {},
   "outputs": [],
   "source": [
    "# Grab the list of images\n",
    "dataset = os.path.expanduser(\"~/work/DL4CV/datasets/animals\")\n",
    "image_paths = glob.glob(dataset + \"/**/*.jpg\", recursive=True)\n",
    "\n",
    "# Randomly sample indexes into the image paths list\n",
    "num_test_images = 5\n",
    "idxs = np.random.randint(0, len(image_paths), size=(num_test_images,))\n",
    "image_paths = np.array(image_paths)[idxs]\n",
    "\n",
    "# Load the dataset from disk\n",
    "data, labels = load_dataset.load_dataset(image_paths)\n",
    "print(data.shape)\n",
    "\n",
    "# Scale the raw pixel intensities to the range [0, 1]\n",
    "data = data.astype(\"float\") / 255.0\n",
    "\n",
    "# Display memory consumption\n",
    "print(f\"data matrix: {data.nbytes / (1024 * 1024.0):.1f} MB\")\n",
    "\n",
    "# Load the model from disk\n",
    "model = load_model(\"shallownet_weights.keras\")\n",
    "\n",
    "# Initialize the class labels\n",
    "class_labels = [\"cat\", \"dog\", \"panda\"]\n",
    "\n",
    "# Make predictions on the images\n",
    "predictions = model.predict(data, batch_size=32).argmax(axis=1)\n",
    "for i, image_path in enumerate(image_paths):\n",
    "    image = cv2.imread(image_path)\n",
    "    cv2.putText(\n",
    "        img=image,\n",
    "        text=\"Label: {}\".format(class_labels[predictions[i]]),\n",
    "        org=(10, 30),\n",
    "        fontFace=cv2.FONT_HERSHEY_SIMPLEX,\n",
    "        fontScale=0.7,\n",
    "        color=(0, 255, 0),\n",
    "        thickness=2,\n",
    "    )\n",
    "    cv2.imshow(\"Image\", image)\n",
    "    cv2.waitKey(0)\n",
    "cv2.destroyAllWindows()"
   ]
  }
 ],
 "metadata": {
  "kernelspec": {
   "display_name": "Python 3",
   "language": "python",
   "name": "python3"
  },
  "language_info": {
   "codemirror_mode": {
    "name": "ipython",
    "version": 3
   },
   "file_extension": ".py",
   "mimetype": "text/x-python",
   "name": "python",
   "nbconvert_exporter": "python",
   "pygments_lexer": "ipython3"
  }
 },
 "nbformat": 4,
 "nbformat_minor": 2
}
