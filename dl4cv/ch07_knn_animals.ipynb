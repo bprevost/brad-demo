{
 "cells": [
  {
   "cell_type": "code",
   "execution_count": null,
   "metadata": {},
   "outputs": [],
   "source": [
    "import os\n",
    "import glob\n",
    "\n",
    "from sklearn.model_selection import train_test_split\n",
    "from sklearn.preprocessing import LabelEncoder\n",
    "from sklearn.neighbors import KNeighborsClassifier\n",
    "from sklearn.metrics import classification_report\n",
    "\n",
    "import load_dataset"
   ]
  },
  {
   "cell_type": "code",
   "execution_count": null,
   "metadata": {},
   "outputs": [],
   "source": [
    "# Grab the list of images\n",
    "dataset = os.path.expanduser(\"~/work/DL4CV/datasets/animals\")\n",
    "image_paths = glob.glob(dataset + \"/**/*.jpg\", recursive=True)\n",
    "\n",
    "# Load the dataset\n",
    "data, labels = load_dataset.load_dataset(image_paths)\n",
    "print(data.shape)\n",
    "\n",
    "# Reshape the data matrix\n",
    "data = data.reshape((data.shape[0], 32 * 32 * 3))\n",
    "print(data.shape)\n",
    "\n",
    "# Display memory consumption\n",
    "print(f\"data matrix: {data.nbytes / (1024 * 1024.0):.1f} MB\")\n",
    "\n",
    "# Partition the data into training (75%) and testing (25%) splits\n",
    "trainX, testX, trainY, testY = train_test_split(\n",
    "    data, labels, test_size=0.25, random_state=42\n",
    ")\n",
    "\n",
    "# Encode the labels as integers\n",
    "le = LabelEncoder()\n",
    "labels = le.fit_transform(labels)"
   ]
  },
  {
   "cell_type": "code",
   "execution_count": null,
   "metadata": {},
   "outputs": [],
   "source": [
    "# Train a k-NN classifier on the raw pixel intensities\n",
    "neighbors = 1  # Number of nearest neighbors for classification\n",
    "jobs = 1  # Number of jobs for k-NN distance\n",
    "model = KNeighborsClassifier(n_neighbors=neighbors, n_jobs=jobs)\n",
    "model.fit(trainX, trainY)"
   ]
  },
  {
   "cell_type": "code",
   "execution_count": null,
   "metadata": {},
   "outputs": [],
   "source": [
    "# Evalute\n",
    "report = classification_report(testY, model.predict(testX), target_names=le.classes_)\n",
    "print(report)"
   ]
  }
 ],
 "metadata": {
  "kernelspec": {
   "display_name": "Python 3",
   "language": "python",
   "name": "python3"
  },
  "language_info": {
   "codemirror_mode": {
    "name": "ipython",
    "version": 3
   },
   "file_extension": ".py",
   "mimetype": "text/x-python",
   "name": "python",
   "nbconvert_exporter": "python",
   "pygments_lexer": "ipython3"
  }
 },
 "nbformat": 4,
 "nbformat_minor": 2
}
